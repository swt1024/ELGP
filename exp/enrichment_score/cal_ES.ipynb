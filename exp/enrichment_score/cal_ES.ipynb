{
 "cells": [
  {
   "cell_type": "markdown",
   "id": "8aebe2d1",
   "metadata": {},
   "source": [
    "## weighted scoring scheme"
   ]
  },
  {
   "cell_type": "code",
   "execution_count": 1,
   "id": "8712ba2b",
   "metadata": {},
   "outputs": [
    {
     "name": "stderr",
     "output_type": "stream",
     "text": [
      "2025-04-15 22:07:01,453 [INFO] Parsing data files for GSEA.............................\n",
      "2025-04-15 22:07:01,539 [INFO] 0000 gene_sets have been filtered out when max_size=4000 and min_size=5\n",
      "2025-04-15 22:07:01,541 [INFO] 0001 gene_sets used for further statistical testing.....\n",
      "2025-04-15 22:07:01,542 [INFO] Start to run GSEA...Might take a while..................\n",
      "2025-04-15 22:07:04,699 [INFO] Congratulations. GSEApy runs successfully................\n",
      "\n",
      "2025-04-15 22:07:05,609 [INFO] Parsing data files for GSEA.............................\n",
      "2025-04-15 22:07:05,690 [INFO] 0000 gene_sets have been filtered out when max_size=4000 and min_size=5\n",
      "2025-04-15 22:07:05,692 [INFO] 0001 gene_sets used for further statistical testing.....\n",
      "2025-04-15 22:07:05,693 [INFO] Start to run GSEA...Might take a while..................\n",
      "2025-04-15 22:07:08,513 [INFO] Congratulations. GSEApy runs successfully................\n",
      "\n",
      "2025-04-15 22:07:10,253 [INFO] Parsing data files for GSEA.............................\n",
      "2025-04-15 22:07:10,372 [INFO] 0000 gene_sets have been filtered out when max_size=4000 and min_size=5\n",
      "2025-04-15 22:07:10,376 [INFO] 0001 gene_sets used for further statistical testing.....\n",
      "2025-04-15 22:07:10,377 [INFO] Start to run GSEA...Might take a while..................\n",
      "2025-04-15 22:07:15,719 [INFO] Congratulations. GSEApy runs successfully................\n",
      "\n",
      "2025-04-15 22:07:16,535 [INFO] Parsing data files for GSEA.............................\n",
      "2025-04-15 22:07:16,618 [INFO] 0000 gene_sets have been filtered out when max_size=4000 and min_size=5\n",
      "2025-04-15 22:07:16,621 [INFO] 0001 gene_sets used for further statistical testing.....\n",
      "2025-04-15 22:07:16,621 [INFO] Start to run GSEA...Might take a while..................\n",
      "2025-04-15 22:07:20,249 [INFO] Congratulations. GSEApy runs successfully................\n",
      "\n",
      "2025-04-15 22:07:21,151 [INFO] Parsing data files for GSEA.............................\n",
      "2025-04-15 22:07:21,234 [INFO] 0000 gene_sets have been filtered out when max_size=4000 and min_size=5\n",
      "2025-04-15 22:07:21,237 [INFO] 0001 gene_sets used for further statistical testing.....\n",
      "2025-04-15 22:07:21,238 [INFO] Start to run GSEA...Might take a while..................\n",
      "2025-04-15 22:07:25,120 [INFO] Congratulations. GSEApy runs successfully................\n",
      "\n",
      "2025-04-15 22:07:25,946 [INFO] Parsing data files for GSEA.............................\n",
      "2025-04-15 22:07:26,031 [INFO] 0000 gene_sets have been filtered out when max_size=4000 and min_size=5\n",
      "2025-04-15 22:07:26,034 [INFO] 0001 gene_sets used for further statistical testing.....\n",
      "2025-04-15 22:07:26,035 [INFO] Start to run GSEA...Might take a while..................\n",
      "2025-04-15 22:07:29,854 [INFO] Congratulations. GSEApy runs successfully................\n",
      "\n"
     ]
    }
   ],
   "source": [
    "import pandas as pd\n",
    "from gseapy import gseaplot\n",
    "import gseapy as gp\n",
    "import matplotlib.pyplot as plt\n",
    "\n",
    "ess = pd.read_csv(\"../../data/benchMarking/human/ess_lpi.csv\")\n",
    "ess.head()\n",
    "gene_sets = {'Essential LncRNA':ess['lncRNA_ID']}\n",
    "\n",
    "human_tissue_dict={'heart':'heart left ventricle','lung':'left lung','stomach':'stomach'}\n",
    "mouse_tissue_dict={'heart':'heart','lung':'lung','brain':'forebrain'}\n",
    "model_names = ['SVM','MLP']\n",
    "\n",
    "for model_name in model_names:\n",
    "    for tissue in human_tissue_dict.keys():\n",
    "\n",
    "        tissue_name = human_tissue_dict[tissue]\n",
    "        prediction = pd.read_csv(f\"../../results/human/{model_name}_predictions_{tissue}.csv\")\n",
    "        prediction = prediction[['lncRNA_ID','Score']]\n",
    "\n",
    "        rnk = prediction\n",
    "\n",
    "        pre_res = gp.prerank(rnk=rnk,\n",
    "                            gene_sets=gene_sets,\n",
    "                            threads=4,\n",
    "                            min_size=5,\n",
    "                            max_size=4000,\n",
    "                            permutation_num=1000, # reduce number to speed up testing\n",
    "                            outdir=None, # don't write to disk\n",
    "                            seed=6,\n",
    "                            verbose=True, # see what's going on behind the scenes\n",
    "                            )\n",
    "\n",
    "        es_df = pd.DataFrame({\n",
    "            \"lncRNA_ID\": pre_res.ranking.index,\n",
    "            \"ES_score\": pre_res.results['Essential LncRNA'][\"RES\"]\n",
    "        })\n",
    "        results = pd.merge(es_df, prediction, on='lncRNA_ID', how='inner')\n",
    "        results['label'] = results['lncRNA_ID'].isin(ess['lncRNA_ID']).astype(int)\n",
    "        results.to_csv(f\"human/res_{model_name}_{tissue}.csv\", index=False)\n",
    "        gsea_res = pre_res.res2d\n",
    "        #gsea_res['NOM p-val'] = gsea_res['NOM p-val'].round(4)\n",
    "        gsea_res.to_csv(f\"human/gsea_{model_name}_{tissue}.csv\", index=False)\n",
    "\n",
    "        terms = pre_res.res2d.Term\n",
    "        fig = gseaplot(\n",
    "            #rank_metric=pre_res.ranking,\n",
    "            term=f\"{model_name}({tissue_name})\",\n",
    "            **pre_res.results[terms[0]],\n",
    "            color=\"green\",\n",
    "            figsize=(4, 3),\n",
    "            ofname=f\"human/{model_name}_{tissue}.svg\",\n",
    "            rank_metric=None\n",
    "        )\n"
   ]
  }
 ],
 "metadata": {
  "kernelspec": {
   "display_name": "esslnc",
   "language": "python",
   "name": "python3"
  },
  "language_info": {
   "codemirror_mode": {
    "name": "ipython",
    "version": 3
   },
   "file_extension": ".py",
   "mimetype": "text/x-python",
   "name": "python",
   "nbconvert_exporter": "python",
   "pygments_lexer": "ipython3",
   "version": "3.11.8"
  }
 },
 "nbformat": 4,
 "nbformat_minor": 5
}
