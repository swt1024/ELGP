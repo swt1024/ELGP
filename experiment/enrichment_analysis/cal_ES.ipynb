{
 "cells": [
  {
   "cell_type": "markdown",
   "id": "8aebe2d1",
   "metadata": {},
   "source": [
    "## Enrichment analysis for ELGP"
   ]
  },
  {
   "cell_type": "code",
   "execution_count": 6,
   "id": "8712ba2b",
   "metadata": {},
   "outputs": [
    {
     "name": "stderr",
     "output_type": "stream",
     "text": [
      "2025-04-17 22:52:20,052 [WARNING] Duplicated values found in preranked stats: 0.01% of genes\n",
      "The order of those genes will be arbitrary, which may produce unexpected results.\n"
     ]
    },
    {
     "name": "stderr",
     "output_type": "stream",
     "text": [
      "2025-04-17 22:52:20,053 [INFO] Parsing data files for GSEA.............................\n",
      "2025-04-17 22:52:20,115 [INFO] 0000 gene_sets have been filtered out when max_size=4000 and min_size=5\n",
      "2025-04-17 22:52:20,118 [INFO] 0001 gene_sets used for further statistical testing.....\n",
      "2025-04-17 22:52:20,119 [INFO] Start to run GSEA...Might take a while..................\n",
      "2025-04-17 22:52:22,553 [INFO] Congratulations. GSEApy runs successfully................\n",
      "\n",
      "2025-04-17 22:52:22,950 [WARNING] Duplicated values found in preranked stats: 0.17% of genes\n",
      "The order of those genes will be arbitrary, which may produce unexpected results.\n",
      "2025-04-17 22:52:22,951 [INFO] Parsing data files for GSEA.............................\n",
      "2025-04-17 22:52:23,009 [INFO] 0000 gene_sets have been filtered out when max_size=4000 and min_size=5\n",
      "2025-04-17 22:52:23,011 [INFO] 0001 gene_sets used for further statistical testing.....\n",
      "2025-04-17 22:52:23,012 [INFO] Start to run GSEA...Might take a while..................\n",
      "2025-04-17 22:52:25,153 [INFO] Congratulations. GSEApy runs successfully................\n",
      "\n",
      "2025-04-17 22:52:25,595 [WARNING] Duplicated values found in preranked stats: 0.44% of genes\n",
      "The order of those genes will be arbitrary, which may produce unexpected results.\n",
      "2025-04-17 22:52:25,596 [INFO] Parsing data files for GSEA.............................\n",
      "2025-04-17 22:52:25,652 [INFO] 0000 gene_sets have been filtered out when max_size=4000 and min_size=5\n",
      "2025-04-17 22:52:25,653 [INFO] 0001 gene_sets used for further statistical testing.....\n",
      "2025-04-17 22:52:25,655 [INFO] Start to run GSEA...Might take a while..................\n",
      "2025-04-17 22:52:28,243 [INFO] Congratulations. GSEApy runs successfully................\n",
      "\n"
     ]
    }
   ],
   "source": [
    "import pandas as pd\n",
    "from gseapy import gseaplot\n",
    "import gseapy as gp\n",
    "import matplotlib.pyplot as plt\n",
    "\n",
    "ess = pd.read_csv(\"../../data/benchMarking/mouse/ess_lpi.csv\")\n",
    "ess.head()\n",
    "gene_sets = {'Essential LncRNA':ess['lncRNA_ID']}\n",
    "\n",
    "human_tissue_dict={'heart':'heart left ventricle','lung':'left lung','stomach':'stomach'}\n",
    "mouse_tissue_dict={'heart':'heart','lung':'lung','brain':'forebrain'}\n",
    "model_names = ['SVM','MLP']\n",
    "\n",
    "for model_name in model_names:\n",
    "    for tissue in mouse_tissue_dict.keys():\n",
    "\n",
    "        tissue_name = mouse_tissue_dict[tissue]\n",
    "        prediction = pd.read_csv(f\"../../results/mouse/{model_name}_predictions_{tissue}.csv\")\n",
    "        prediction = prediction[['lncRNA_ID','Score']]\n",
    "\n",
    "        rnk = prediction\n",
    "\n",
    "        pre_res = gp.prerank(rnk=rnk,\n",
    "                            gene_sets=gene_sets,\n",
    "                            threads=4,\n",
    "                            min_size=5,\n",
    "                            max_size=4000,\n",
    "                            permutation_num=1000, # reduce number to speed up testing\n",
    "                            outdir=None, # don't write to disk\n",
    "                            seed=6,\n",
    "                            verbose=True, # see what's going on behind the scenes\n",
    "                            )\n",
    "\n",
    "        es_df = pd.DataFrame({\n",
    "            \"lncRNA_ID\": pre_res.ranking.index,\n",
    "            \"ES_score\": pre_res.results['Essential LncRNA'][\"RES\"]\n",
    "        })\n",
    "        results = pd.merge(es_df, prediction, on='lncRNA_ID', how='inner')\n",
    "        results['label'] = results['lncRNA_ID'].isin(ess['lncRNA_ID']).astype(int)\n",
    "        results.to_csv(f\"mouse/res_{model_name}_{tissue}.csv\", index=False)\n",
    "        gsea_res = pre_res.res2d\n",
    "        gsea_res.to_csv(f\"mouse/gsea_{model_name}_{tissue}.csv\", index=False)\n",
    "\n",
    "        terms = pre_res.res2d.Term\n",
    "        fig = gseaplot(\n",
    "            term=f\"{model_name}({tissue_name})\",\n",
    "            **pre_res.results[terms[0]],\n",
    "            color=\"green\",\n",
    "            figsize=(4, 3),\n",
    "            ofname=f\"mouse/{model_name}_{tissue}.svg\",\n",
    "            rank_metric=None\n",
    "        )\n"
   ]
  },
  {
   "cell_type": "markdown",
   "id": "f5afc005",
   "metadata": {},
   "source": [
    "## Enrichment analysis for iEssLnc and GIC."
   ]
  },
  {
   "cell_type": "code",
   "execution_count": 7,
   "id": "bb8006da",
   "metadata": {},
   "outputs": [
    {
     "name": "stderr",
     "output_type": "stream",
     "text": [
      "2025-04-17 23:25:41,450 [WARNING] Duplicated values found in preranked stats: 3.38% of genes\n",
      "The order of those genes will be arbitrary, which may produce unexpected results.\n",
      "2025-04-17 23:25:41,451 [INFO] Parsing data files for GSEA.............................\n",
      "2025-04-17 23:25:41,493 [INFO] 0000 gene_sets have been filtered out when max_size=4000 and min_size=5\n",
      "2025-04-17 23:25:41,495 [INFO] 0001 gene_sets used for further statistical testing.....\n",
      "2025-04-17 23:25:41,496 [INFO] Start to run GSEA...Might take a while..................\n",
      "2025-04-17 23:25:43,748 [INFO] Congratulations. GSEApy runs successfully................\n",
      "\n"
     ]
    }
   ],
   "source": [
    "import pandas as pd\n",
    "from gseapy import gseaplot\n",
    "import gseapy as gp\n",
    "import matplotlib.pyplot as plt\n",
    "\n",
    "ess = pd.read_csv(\"../../data/benchMarking/mouse/ess_lpi.csv\")\n",
    "ess.head()\n",
    "gene_sets = {'Essential LncRNA':ess['lncRNA_ID']}\n",
    "\n",
    "prediction = pd.read_csv(f\"../../results/mouse/GIC_score_mouse.csv\")\n",
    "prediction = prediction[['lncRNA_ID','Score']]\n",
    "\n",
    "rnk = prediction\n",
    "\n",
    "pre_res = gp.prerank(rnk=rnk,\n",
    "                    gene_sets=gene_sets,\n",
    "                    threads=4,\n",
    "                    min_size=5,\n",
    "                    max_size=4000,\n",
    "                    permutation_num=1000, # reduce number to speed up testing\n",
    "                    outdir=None, # don't write to disk\n",
    "                    seed=6,\n",
    "                    verbose=True, # see what's going on behind the scenes\n",
    "                    )\n",
    "\n",
    "es_df = pd.DataFrame({\n",
    "    \"lncRNA_ID\": pre_res.ranking.index,\n",
    "    \"ES_score\": pre_res.results['Essential LncRNA'][\"RES\"]\n",
    "})\n",
    "results = pd.merge(es_df, prediction, on='lncRNA_ID', how='inner')\n",
    "results['label'] = results['lncRNA_ID'].isin(ess['lncRNA_ID']).astype(int)\n",
    "results.to_csv(f\"mouse/res_GIC_mouse.csv\", index=False)\n",
    "gsea_res = pre_res.res2d\n",
    "gsea_res.to_csv(f\"mouse/gsea_GIC_mouse.csv\", index=False)\n",
    "\n",
    "terms = pre_res.res2d.Term\n",
    "fig = gseaplot(\n",
    "    term=f\"GIC(mouse)\",\n",
    "    **pre_res.results[terms[0]],\n",
    "    color=\"green\",\n",
    "    figsize=(4, 3),\n",
    "    ofname=f\"mouse/GIC_mouse.svg\",\n",
    "    rank_metric=None\n",
    ")\n"
   ]
  }
 ],
 "metadata": {
  "kernelspec": {
   "display_name": "esslnc",
   "language": "python",
   "name": "python3"
  },
  "language_info": {
   "codemirror_mode": {
    "name": "ipython",
    "version": 3
   },
   "file_extension": ".py",
   "mimetype": "text/x-python",
   "name": "python",
   "nbconvert_exporter": "python",
   "pygments_lexer": "ipython3",
   "version": "3.11.8"
  }
 },
 "nbformat": 4,
 "nbformat_minor": 5
}
